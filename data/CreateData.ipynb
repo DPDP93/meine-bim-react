{
 "nbformat": 4,
 "nbformat_minor": 2,
 "metadata": {
  "language_info": {
   "name": "python",
   "codemirror_mode": {
    "name": "ipython",
    "version": 3
   },
   "version": "3.7.4-final"
  },
  "orig_nbformat": 2,
  "file_extension": ".py",
  "mimetype": "text/x-python",
  "name": "python",
  "npconvert_exporter": "python",
  "pygments_lexer": "ipython3",
  "version": 3,
  "kernelspec": {
   "name": "python37464bit0a84ef34e80e426886c8083856fb116a",
   "display_name": "Python 3.7.4 64-bit"
  }
 },
 "cells": [
  {
   "cell_type": "code",
   "execution_count": 1,
   "metadata": {},
   "outputs": [],
   "source": [
    "import numpy as np\n",
    "import pandas as pd"
   ]
  },
  {
   "cell_type": "code",
   "execution_count": 2,
   "metadata": {},
   "outputs": [
    {
     "data": {
      "text/html": "<div>\n<style scoped>\n    .dataframe tbody tr th:only-of-type {\n        vertical-align: middle;\n    }\n\n    .dataframe tbody tr th {\n        vertical-align: top;\n    }\n\n    .dataframe thead th {\n        text-align: right;\n    }\n</style>\n<table border=\"1\" class=\"dataframe\">\n  <thead>\n    <tr style=\"text-align: right;\">\n      <th></th>\n      <th>STEIG_ID</th>\n      <th>FK_LINIEN_ID</th>\n      <th>FK_HALTESTELLEN_ID</th>\n      <th>RICHTUNG</th>\n      <th>REIHENFOLGE</th>\n      <th>RBL_NUMMER</th>\n      <th>BEREICH</th>\n      <th>STEIG</th>\n      <th>STEIG_WGS84_LAT</th>\n      <th>STEIG_WGS84_LON</th>\n    </tr>\n  </thead>\n  <tbody>\n    <tr>\n      <th>0</th>\n      <td>214689748</td>\n      <td>214433691</td>\n      <td>214461074</td>\n      <td>H</td>\n      <td>1</td>\n      <td>4931</td>\n      <td>2</td>\n      <td>U3-H</td>\n      <td>48,21157002</td>\n      <td>16,31143825</td>\n    </tr>\n    <tr>\n      <th>1</th>\n      <td>214689749</td>\n      <td>214433691</td>\n      <td>214461382</td>\n      <td>H</td>\n      <td>2</td>\n      <td>4932</td>\n      <td>1</td>\n      <td>U3-H</td>\n      <td>48,20458364</td>\n      <td>16,30907568</td>\n    </tr>\n    <tr>\n      <th>2</th>\n      <td>214689750</td>\n      <td>214433691</td>\n      <td>214461121</td>\n      <td>H</td>\n      <td>3</td>\n      <td>4933</td>\n      <td>1</td>\n      <td>U3-H</td>\n      <td>48,19978182</td>\n      <td>16,31136638</td>\n    </tr>\n    <tr>\n      <th>3</th>\n      <td>214689751</td>\n      <td>214433691</td>\n      <td>214460711</td>\n      <td>H</td>\n      <td>4</td>\n      <td>4926</td>\n      <td>1</td>\n      <td>U3-H</td>\n      <td>48,19760828</td>\n      <td>16,32005309</td>\n    </tr>\n    <tr>\n      <th>4</th>\n      <td>214689752</td>\n      <td>214433691</td>\n      <td>214461278</td>\n      <td>H</td>\n      <td>5</td>\n      <td>4927</td>\n      <td>1</td>\n      <td>U3-H</td>\n      <td>48,1976442</td>\n      <td>16,32861404</td>\n    </tr>\n  </tbody>\n</table>\n</div>",
      "text/plain": "    STEIG_ID  FK_LINIEN_ID  FK_HALTESTELLEN_ID RICHTUNG  REIHENFOLGE  \\\n0  214689748     214433691           214461074        H            1   \n1  214689749     214433691           214461382        H            2   \n2  214689750     214433691           214461121        H            3   \n3  214689751     214433691           214460711        H            4   \n4  214689752     214433691           214461278        H            5   \n\n   RBL_NUMMER  BEREICH STEIG STEIG_WGS84_LAT STEIG_WGS84_LON  \n0        4931        2  U3-H     48,21157002     16,31143825  \n1        4932        1  U3-H     48,20458364     16,30907568  \n2        4933        1  U3-H     48,19978182     16,31136638  \n3        4926        1  U3-H     48,19760828     16,32005309  \n4        4927        1  U3-H      48,1976442     16,32861404  "
     },
     "execution_count": 2,
     "metadata": {},
     "output_type": "execute_result"
    }
   ],
   "source": [
    "steige = pd.read_csv(\"wienerlinien-ogd-steige.csv\", sep=\";\")\n",
    "steige.head()"
   ]
  },
  {
   "cell_type": "code",
   "execution_count": 3,
   "metadata": {},
   "outputs": [
    {
     "data": {
      "text/html": "<div>\n<style scoped>\n    .dataframe tbody tr th:only-of-type {\n        vertical-align: middle;\n    }\n\n    .dataframe tbody tr th {\n        vertical-align: top;\n    }\n\n    .dataframe thead th {\n        text-align: right;\n    }\n</style>\n<table border=\"1\" class=\"dataframe\">\n  <thead>\n    <tr style=\"text-align: right;\">\n      <th></th>\n      <th>HALTESTELLEN_ID</th>\n      <th>TYP</th>\n      <th>DIVA</th>\n      <th>NAME</th>\n      <th>GEMEINDE</th>\n      <th>GEMEINDE_ID</th>\n      <th>WGS84_LAT</th>\n      <th>WGS84_LON</th>\n    </tr>\n  </thead>\n  <tbody>\n    <tr>\n      <th>0</th>\n      <td>214460106</td>\n      <td>stop</td>\n      <td>60200001</td>\n      <td>Schrankenberggasse</td>\n      <td>Wien</td>\n      <td>90001</td>\n      <td>48,17380107</td>\n      <td>16,38980727</td>\n    </tr>\n    <tr>\n      <th>1</th>\n      <td>214460107</td>\n      <td>stop</td>\n      <td>60200002</td>\n      <td>Achengasse</td>\n      <td>Wien</td>\n      <td>90001</td>\n      <td>48,28452581</td>\n      <td>16,44889845</td>\n    </tr>\n    <tr>\n      <th>2</th>\n      <td>214460108</td>\n      <td>stop</td>\n      <td>60200003</td>\n      <td>Ada-Christen-Gasse</td>\n      <td>Wien</td>\n      <td>90001</td>\n      <td>48,15286556</td>\n      <td>16,3859535</td>\n    </tr>\n    <tr>\n      <th>3</th>\n      <td>214460109</td>\n      <td>stop</td>\n      <td>60200004</td>\n      <td>Adam-Betz-Gasse</td>\n      <td>Wien</td>\n      <td>90001</td>\n      <td>48,21561056</td>\n      <td>16,53519062</td>\n    </tr>\n    <tr>\n      <th>4</th>\n      <td>214460110</td>\n      <td>stop</td>\n      <td>60200005</td>\n      <td>Adamovichgasse</td>\n      <td>Wien</td>\n      <td>90001</td>\n      <td>48,14216681</td>\n      <td>16,33783974</td>\n    </tr>\n  </tbody>\n</table>\n</div>",
      "text/plain": "   HALTESTELLEN_ID   TYP      DIVA                NAME GEMEINDE  GEMEINDE_ID  \\\n0        214460106  stop  60200001  Schrankenberggasse     Wien        90001   \n1        214460107  stop  60200002          Achengasse     Wien        90001   \n2        214460108  stop  60200003  Ada-Christen-Gasse     Wien        90001   \n3        214460109  stop  60200004     Adam-Betz-Gasse     Wien        90001   \n4        214460110  stop  60200005      Adamovichgasse     Wien        90001   \n\n     WGS84_LAT    WGS84_LON  \n0  48,17380107  16,38980727  \n1  48,28452581  16,44889845  \n2  48,15286556   16,3859535  \n3  48,21561056  16,53519062  \n4  48,14216681  16,33783974  "
     },
     "execution_count": 3,
     "metadata": {},
     "output_type": "execute_result"
    }
   ],
   "source": [
    "haltestellen = pd.read_csv(\"wienerlinien-ogd-haltestellen.csv\", sep=\";\")\n",
    "haltestellen.head()"
   ]
  },
  {
   "cell_type": "code",
   "execution_count": 4,
   "metadata": {},
   "outputs": [
    {
     "data": {
      "text/plain": "HALTESTELLEN_ID           214460174\nTYP                            stop\nDIVA                       60200069\nNAME               Anton-Böck-Gasse\nGEMEINDE                       Wien\nGEMEINDE_ID                   90001\nWGS84_LAT               48,29640207\nWGS84_LON               16,38978033\nName: 68, dtype: object"
     },
     "execution_count": 4,
     "metadata": {},
     "output_type": "execute_result"
    }
   ],
   "source": [
    "# Test UTF-8\n",
    "haltestellen.iloc[68, :]"
   ]
  },
  {
   "cell_type": "code",
   "execution_count": 5,
   "metadata": {},
   "outputs": [
    {
     "data": {
      "text/html": "<div>\n<style scoped>\n    .dataframe tbody tr th:only-of-type {\n        vertical-align: middle;\n    }\n\n    .dataframe tbody tr th {\n        vertical-align: top;\n    }\n\n    .dataframe thead th {\n        text-align: right;\n    }\n</style>\n<table border=\"1\" class=\"dataframe\">\n  <thead>\n    <tr style=\"text-align: right;\">\n      <th></th>\n      <th>HALTESTELLEN_ID</th>\n      <th>DIVA</th>\n      <th>NAME</th>\n      <th>LATITUDE</th>\n      <th>LONGITUDE</th>\n      <th>RLB</th>\n    </tr>\n  </thead>\n  <tbody>\n    <tr>\n      <th>0</th>\n      <td>214460106</td>\n      <td>60200001</td>\n      <td>Schrankenberggasse</td>\n      <td>48,17380107</td>\n      <td>16,38980727</td>\n      <td>[]</td>\n    </tr>\n    <tr>\n      <th>1</th>\n      <td>214460107</td>\n      <td>60200002</td>\n      <td>Achengasse</td>\n      <td>48,28452581</td>\n      <td>16,44889845</td>\n      <td>[]</td>\n    </tr>\n    <tr>\n      <th>2</th>\n      <td>214460108</td>\n      <td>60200003</td>\n      <td>Ada-Christen-Gasse</td>\n      <td>48,15286556</td>\n      <td>16,3859535</td>\n      <td>[]</td>\n    </tr>\n    <tr>\n      <th>3</th>\n      <td>214460109</td>\n      <td>60200004</td>\n      <td>Adam-Betz-Gasse</td>\n      <td>48,21561056</td>\n      <td>16,53519062</td>\n      <td>[]</td>\n    </tr>\n    <tr>\n      <th>4</th>\n      <td>214460110</td>\n      <td>60200005</td>\n      <td>Adamovichgasse</td>\n      <td>48,14216681</td>\n      <td>16,33783974</td>\n      <td>[]</td>\n    </tr>\n  </tbody>\n</table>\n</div>",
      "text/plain": "   HALTESTELLEN_ID      DIVA                NAME     LATITUDE    LONGITUDE RLB\n0        214460106  60200001  Schrankenberggasse  48,17380107  16,38980727  []\n1        214460107  60200002          Achengasse  48,28452581  16,44889845  []\n2        214460108  60200003  Ada-Christen-Gasse  48,15286556   16,3859535  []\n3        214460109  60200004     Adam-Betz-Gasse  48,21561056  16,53519062  []\n4        214460110  60200005      Adamovichgasse  48,14216681  16,33783974  []"
     },
     "execution_count": 5,
     "metadata": {},
     "output_type": "execute_result"
    }
   ],
   "source": [
    "df = pd.DataFrame({\n",
    "    \"HALTESTELLEN_ID\": haltestellen[\"HALTESTELLEN_ID\"], \n",
    "    \"DIVA\": haltestellen[\"DIVA\"],\n",
    "    \"NAME\": haltestellen[\"NAME\"],\n",
    "    \"LATITUDE\": haltestellen[\"WGS84_LAT\"],\n",
    "    \"LONGITUDE\": haltestellen[\"WGS84_LON\"],\n",
    "    \"RLB\": \"[]\"\n",
    "})\n",
    "df.head()"
   ]
  },
  {
   "cell_type": "code",
   "execution_count": 14,
   "metadata": {},
   "outputs": [
    {
     "name": "stdout",
     "output_type": "stream",
     "text": "[406, 420]\n"
    }
   ],
   "source": [
    "# Calculate all RBL for each Haltestellen_ID\n",
    "for index, row in df.iterrows():\n",
    "    id = row[\"HALTESTELLEN_ID\"]\n",
    "    arr = steige[(steige[\"FK_HALTESTELLEN_ID\"] == id)]\n",
    "    arr = list(arr[\"RBL_NUMMER\"].drop_duplicates().values)\n",
    "    arr = str(arr)\n",
    "    print(arr)\n",
    "    #arr = arr.replace(\".\", \"\")\n",
    "    #arr = arr.replace(\" \", \", \")\n",
    "    \n",
    "    #df.iloc[index, 5] = arr\n",
    "\n",
    "    if (index == 0):\n",
    "        break\n"
   ]
  },
  {
   "cell_type": "code",
   "execution_count": 7,
   "metadata": {},
   "outputs": [
    {
     "name": "stdout",
     "output_type": "stream",
     "text": "HALTESTELLEN_ID      DIVA                NAME     LATITUDE    LONGITUDE  \\\n0        214460106  60200001  Schrankenberggasse  48,17380107  16,38980727   \n1        214460107  60200002          Achengasse  48,28452581  16,44889845   \n2        214460108  60200003  Ada-Christen-Gasse  48,15286556   16,3859535   \n3        214460109  60200004     Adam-Betz-Gasse  48,21561056  16,53519062   \n4        214460110  60200005      Adamovichgasse  48,14216681  16,33783974   \n\n            RLB  \n0    [406, 420]  \n1  [1168, 1159]  \n2        [3171]  \n3        [8007]  \n4  [2093, 2550]  \n      HALTESTELLEN_ID      DIVA            NAME     LATITUDE    LONGITUDE  \\\n2223        240568393  60201908    Ziedlergasse  48,15124141  16,29610401   \n2224        297662130  60201909   Melchartgasse  48,17233934  16,29511586   \n2225        345540619  60201910    Absberggasse  48,17595765  16,39060678   \n2226        345748639  60201911  Niedermeierweg  48,20625399  16,48325003   \n2227        378056605  60201912     Hlawkagasse  48,17912646  16,38287228   \n\n                           RLB  \n2223                    [3846]  \n2224              [3443, 3444]  \n2225  [3435, 3434, 3431, 3433]  \n2226              [3453, 3454]  \n2227              [3439, 3438]  \n"
    }
   ],
   "source": [
    "print(df.head())\n",
    "print(df.tail())"
   ]
  },
  {
   "cell_type": "code",
   "execution_count": 10,
   "metadata": {},
   "outputs": [],
   "source": [
    "df.to_csv(\"data.csv\")  \n",
    "df.to_excel(\"data.xlsx\")"
   ]
  },
  {
   "cell_type": "code",
   "execution_count": null,
   "metadata": {},
   "outputs": [],
   "source": []
  }
 ]
}